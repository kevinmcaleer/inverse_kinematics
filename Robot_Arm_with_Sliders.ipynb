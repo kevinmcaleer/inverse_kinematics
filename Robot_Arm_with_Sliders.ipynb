{
  "nbformat": 4,
  "nbformat_minor": 0,
  "metadata": {
    "colab": {
      "provenance": [],
      "toc_visible": true,
      "authorship_tag": "ABX9TyOuBGn0rd6Y0WJ2IPgqHxeg",
      "include_colab_link": true
    },
    "kernelspec": {
      "name": "python3",
      "display_name": "Python 3"
    },
    "language_info": {
      "name": "python"
    }
  },
  "cells": [
    {
      "cell_type": "markdown",
      "metadata": {
        "id": "view-in-github",
        "colab_type": "text"
      },
      "source": [
        "<a href=\"https://colab.research.google.com/github/kevinmcaleer/inverse_kinematics/blob/main/Robot_Arm_with_Sliders.ipynb\" target=\"_parent\"><img src=\"https://colab.research.google.com/assets/colab-badge.svg\" alt=\"Open In Colab\"/></a>"
      ]
    },
    {
      "cell_type": "markdown",
      "source": [
        "# Import the libraries\n",
        "\n",
        "Import NumPy for helping with some Math, and MatPlotLib for plotting the Arm on a chart."
      ],
      "metadata": {
        "id": "xMTMfXhXwKjc"
      }
    },
    {
      "cell_type": "code",
      "source": [
        "# Required imports\n",
        "import numpy as np\n",
        "import matplotlib.pyplot as plt\n",
        "\n",
        "# Make the Notebook interactive with widgets\n",
        "from ipywidgets import interact, FloatSlider, FloatText\n",
        "import ipywidgets as widgets"
      ],
      "metadata": {
        "id": "ZRdfkYX9L2eg"
      },
      "execution_count": 10,
      "outputs": []
    },
    {
      "cell_type": "markdown",
      "source": [
        "# Calculate the Inverse Kinematics\n",
        "\n",
        "Calculate the IK for a given end point (x,y), for each arm section."
      ],
      "metadata": {
        "id": "iWXKcX51wlsr"
      }
    },
    {
      "cell_type": "code",
      "source": [
        "# Inverse Kinematics calculation\n",
        "def inverse_kinematics(x, y, l1, l2, l3):\n",
        "    \"\"\" Calculate the IK for arm sections l1, l2, and l3 using the x & y target \"\"\"\n",
        "    r = np.sqrt(x**2 + y**2)\n",
        "    r_adj = r - l3\n",
        "    cos_angle2 = (r_adj**2 - l1**2 - l2**2) / (2 * l1 * l2)\n",
        "    angle2 = np.arccos(np.clip(cos_angle2, -1, 1))\n",
        "    k1 = l1 + l2 * np.cos(angle2)\n",
        "    k2 = l2 * np.sin(angle2)\n",
        "    angle1 = np.arctan2(y, x) - np.arctan2(k2, k1)\n",
        "    angle3 = np.arctan2(y, x) - angle1 - angle2\n",
        "\n",
        "    # return the angles for each joint\n",
        "    return np.degrees(angle1), np.degrees(angle2), np.degrees(angle3)"
      ],
      "metadata": {
        "id": "g4Gf6OOEnDld"
      },
      "execution_count": 5,
      "outputs": []
    },
    {
      "cell_type": "markdown",
      "source": [
        "# Plot the Chart\n",
        "\n",
        "This function plots the arm on a chart."
      ],
      "metadata": {
        "id": "h8JB4mB6xFyR"
      }
    },
    {
      "cell_type": "code",
      "source": [
        "def plot_arm(x, y, l1, l2, l3):\n",
        "    \"\"\" Plot the Arm on the chart \"\"\"\n",
        "    angles = inverse_kinematics(x, y, l1, l2, l3)\n",
        "    angle1, angle2, angle3 = np.radians(angles)\n",
        "\n",
        "    joint1 = (l1 * np.cos(angle1), l1 * np.sin(angle1))\n",
        "    joint2 = (joint1[0] + l2 * np.cos(angle1 + angle2), joint1[1] + l2 * np.sin(angle1 + angle2))\n",
        "    effector = (joint2[0] + l3 * np.cos(angle1 + angle2 + angle3), joint2[1] + l3 * np.sin(angle1 + angle2 + angle3))\n",
        "\n",
        "    plt.figure(figsize=(6, 6))\n",
        "    plt.plot([0, joint1[0]], [0, joint1[1]], 'ro-')  # Base to joint1\n",
        "    plt.plot([joint1[0], joint2[0]], [joint1[1], joint2[1]], 'go-')  # joint1 to joint2\n",
        "    plt.plot([joint2[0], effector[0]], [joint2[1], effector[1]], 'bo-')  # joint2 to effector\n",
        "    plt.plot(x, y, 'yx')  # Target position\n",
        "    plt.scatter([effector[0]], [effector[1]], s=100, facecolors='none', edgecolors='r')  # Crosshair at end effector\n",
        "\n",
        "    # Angle annotations\n",
        "    plt.text(0.5 * joint1[0], 0.5 * joint1[1], f'{np.degrees(angle1):.2f}°', color='red')\n",
        "    plt.text(joint1[0] + 0.5 * (joint2[0] - joint1[0]), joint1[1] + 0.5 * (joint2[1] - joint1[1]), f'{np.degrees(angle2):.2f}°', color='green')\n",
        "    plt.text(joint2[0] + 0.5 * (effector[0] - joint2[0]), joint2[1] + 0.5 * (effector[1] - joint2[1]), f'{np.degrees(angle3):.2f}°', color='blue')\n",
        "\n",
        "    plt.xlim(-3, 3)\n",
        "    plt.ylim(-3, 3)\n",
        "    plt.xlabel('X')\n",
        "    plt.ylabel('Y')\n",
        "    plt.title('Robotic Arm Position')\n",
        "    plt.grid(True)\n",
        "    plt.show()"
      ],
      "metadata": {
        "id": "bkCTvaVAnF3y"
      },
      "execution_count": 6,
      "outputs": []
    },
    {
      "cell_type": "code",
      "source": [
        "# Interactive controls\n",
        "x_slider = FloatSlider(min=-2, max=2, step=0.1, value=1, description='X Position:')\n",
        "y_slider = FloatSlider(min=-2, max=2, step=0.1, value=1, description='Y Position:')\n",
        "l1_text = FloatText(value=1, description='L1 Length:')\n",
        "l2_text = FloatText(value=1, description='L2 Length:')\n",
        "l3_text = FloatText(value=1, description='L3 Length:')\n",
        "\n",
        "# Play time\n",
        "interact(plot_arm, x=x_slider, y=y_slider, l1=l1_text, l2=l2_text, l3=l3_text)"
      ],
      "metadata": {
        "id": "dKC90Q11nIiI"
      },
      "execution_count": 9,
      "outputs": []
    }
  ]
}